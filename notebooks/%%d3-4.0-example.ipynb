{
 "cells": [
  {
   "cell_type": "code",
   "execution_count": 1,
   "metadata": {
    "collapsed": true
   },
   "outputs": [],
   "source": [
    "%run ../py-d3.py"
   ]
  },
  {
   "cell_type": "code",
   "execution_count": null,
   "metadata": {
    "collapsed": false
   },
   "outputs": [],
   "source": [
    "%%d3 3.5.17\n",
    "\n",
    "<script>\n",
    "console.log(d3);\n",
    "</script>"
   ]
  },
  {
   "cell_type": "code",
   "execution_count": 5,
   "metadata": {
    "collapsed": false
   },
   "outputs": [
    {
     "name": "stdout",
     "output_type": "stream",
     "text": [
      "\n",
      "<script src=\"//cdnjs.cloudflare.com/ajax/libs/d3/4.2.2/d3.js\"></script>\n",
      "\n",
      "<script>\n",
      "d3.select3 = function(selection) {\n",
      "    return _select(\"#d3-cell-3\").select(selection);\n",
      "}\n",
      "d3.selectAll3 = function(selection) {\n",
      "    return _select(\"#d3-cell-3\").selectAll(selection);\n",
      "}\n",
      "</script>\n",
      "<g id=\"d3-cell-3\">\n",
      "    \n",
      "<script>\n",
      "console.log(d3);\n",
      "console.log(d3.select2);\n",
      "console.log(d3.selectAll2);\n",
      "console.log(d3.version);\n",
      "</script>\n",
      "</g>\n"
     ]
    },
    {
     "data": {
      "text/html": [
       "\n",
       "<script src=\"//cdnjs.cloudflare.com/ajax/libs/d3/4.2.2/d3.js\"></script>\n",
       "\n",
       "<script>\n",
       "d3.select3 = function(selection) {\n",
       "    return _select(\"#d3-cell-3\").select(selection);\n",
       "}\n",
       "d3.selectAll3 = function(selection) {\n",
       "    return _select(\"#d3-cell-3\").selectAll(selection);\n",
       "}\n",
       "</script>\n",
       "<g id=\"d3-cell-3\">\n",
       "    \n",
       "<script>\n",
       "console.log(d3);\n",
       "console.log(d3.select2);\n",
       "console.log(d3.selectAll2);\n",
       "console.log(d3.version);\n",
       "</script>\n",
       "</g>"
      ],
      "text/plain": [
       "<IPython.core.display.HTML object>"
      ]
     },
     "metadata": {},
     "output_type": "display_data"
    }
   ],
   "source": [
    "%%d3 4.2.2\n",
    "\n",
    "<script>\n",
    "console.log(d3);\n",
    "console.log(d3.select2);\n",
    "console.log(d3.selectAll2);\n",
    "console.log(d3.version);\n",
    "</script>"
   ]
  },
  {
   "cell_type": "code",
   "execution_count": null,
   "metadata": {
    "collapsed": false
   },
   "outputs": [],
   "source": [
    "s = \"\"\"\n",
    "<script src=\"//cdnjs.cloudflare.com/ajax/libs/d3/3.5.17/d3.js\"></script>\n",
    "\n",
    "    \n",
    "<script>\n",
    "console.log(d3);\n",
    "</script>\n",
    "\"\"\"\n",
    "h = HTML(s)\n",
    "display(h)"
   ]
  },
  {
   "cell_type": "code",
   "execution_count": null,
   "metadata": {
    "collapsed": false
   },
   "outputs": [],
   "source": [
    "s = \"\"\"\n",
    "<script src=\"//cdnjs.cloudflare.com/ajax/libs/d3/4.2.2/d3.js\"></script>\n",
    "\n",
    "    \n",
    "<script>\n",
    "console.log(d3);\n",
    "</script>\n",
    "\"\"\"\n",
    "h = HTML(s)\n",
    "display(h)"
   ]
  },
  {
   "cell_type": "code",
   "execution_count": null,
   "metadata": {
    "collapsed": false,
    "scrolled": false
   },
   "outputs": [],
   "source": [
    "%%d3 4.2.2\n",
    "\n",
    "<style>\n",
    "\n",
    "body {\n",
    "  font: 10px sans-serif;\n",
    "  position: relative;\n",
    "}\n",
    "\n",
    ".node {\n",
    "  box-sizing: border-box;\n",
    "  position: absolute;\n",
    "  overflow: hidden;\n",
    "}\n",
    "\n",
    ".node-label {\n",
    "  padding: 4px;\n",
    "  line-height: 1em;\n",
    "  white-space: pre;\n",
    "}\n",
    "\n",
    ".node-value {\n",
    "  color: rgba(0,0,0,0.8);\n",
    "  font-size: 9px;\n",
    "  margin-top: 1px;\n",
    "}\n",
    "\n",
    "</style>\n",
    "\n",
    "<g></g>\n",
    "\n",
    "<script>\n",
    "console.log(d3);\n",
    "console.log(Object.getOwnPropertyNames(d3));\n",
    "console.log(d3.version)\n",
    "\n",
    "var width = 960,\n",
    "    height = 1060;\n",
    "\n",
    "var format = d3.format(\",d\");\n",
    "\n",
    "var color = d3.scaleOrdinal()\n",
    "    .range(d3.schemeCategory10\n",
    "        .map(function(c) { c = d3.rgb(c); c.opacity = 0.6; return c; }));\n",
    "\n",
    "var stratify = d3.stratify()\n",
    "    .parentId(function(d) { return d.id.substring(0, d.id.lastIndexOf(\".\")); });\n",
    "\n",
    "var treemap = d3.treemap()\n",
    "    .size([width, height])\n",
    "    .padding(1)\n",
    "    .round(true);\n",
    "\n",
    "d3.csv(\"../data/flare.csv\", type, function(error, data) {\n",
    "  if (error) throw error;\n",
    "\n",
    "  var root = stratify(data)\n",
    "      .sum(function(d) { return d.value ? 1 : 0; })\n",
    "      .sort(function(a, b) { return b.height - a.height || b.value - a.value; });\n",
    "\n",
    "  treemap(root);\n",
    "\n",
    "  d3.select(\"g\")\n",
    "    .selectAll(\".node\")\n",
    "    .data(root.leaves())\n",
    "    .enter().append(\"div\")\n",
    "      .attr(\"class\", \"node\")\n",
    "      .attr(\"title\", function(d) { return d.id; })\n",
    "      .style(\"left\", function(d) { return d.x0 + \"px\"; })\n",
    "      .style(\"top\", function(d) { return d.y0 + \"px\"; })\n",
    "      .style(\"width\", function(d) { return d.x1 - d.x0 + \"px\"; })\n",
    "      .style(\"height\", function(d) { return d.y1 - d.y0 + \"px\"; })\n",
    "      .style(\"background\", function(d) { while (d.depth > 1) d = d.parent; return color(d.id); })\n",
    "    .append(\"div\")\n",
    "      .attr(\"class\", \"node-label\")\n",
    "      .text(function(d) { return d.id.substring(d.id.lastIndexOf(\".\") + 1).split(/(?=[A-Z][^A-Z])/g).join(\"\\n\"); });\n",
    "});\n",
    "\n",
    "function type(d) {\n",
    "  d.value = +d.value;\n",
    "  return d;\n",
    "}\n",
    "\n",
    "</script>"
   ]
  },
  {
   "cell_type": "code",
   "execution_count": null,
   "metadata": {
    "collapsed": true
   },
   "outputs": [],
   "source": []
  }
 ],
 "metadata": {
  "kernelspec": {
   "display_name": "Python 3",
   "language": "python",
   "name": "python3"
  },
  "language_info": {
   "codemirror_mode": {
    "name": "ipython",
    "version": 3
   },
   "file_extension": ".py",
   "mimetype": "text/x-python",
   "name": "python",
   "nbconvert_exporter": "python",
   "pygments_lexer": "ipython3",
   "version": "3.5.2"
  }
 },
 "nbformat": 4,
 "nbformat_minor": 0
}
